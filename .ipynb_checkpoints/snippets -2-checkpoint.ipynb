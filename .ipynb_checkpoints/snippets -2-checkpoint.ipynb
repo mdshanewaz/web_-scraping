{
 "cells": [
  {
   "cell_type": "code",
   "execution_count": 5,
   "id": "08436203-5463-4a5d-999e-bd3106015677",
   "metadata": {},
   "outputs": [],
   "source": [
    "import pandas as pd"
   ]
  },
  {
   "cell_type": "code",
   "execution_count": 6,
   "id": "aaf9f365-8ac3-45d4-a574-06679d05b68a",
   "metadata": {},
   "outputs": [],
   "source": [
    "people = {\n",
    "    'first' : ['Shah', 'Shah', 'Kawser'],\n",
    "    'last' : ['Newaz', 'Waliullah', 'Rana'],\n",
    "    'email' : ['demo1@mail.com', 'demo2@mail.com', 'demo3@mail.com']\n",
    "}"
   ]
  },
  {
   "cell_type": "code",
   "execution_count": 7,
   "id": "1586ac9a-3a31-4606-9725-06a65e1f78ac",
   "metadata": {},
   "outputs": [],
   "source": [
    "df = pd.DataFrame(people)"
   ]
  },
  {
   "cell_type": "code",
   "execution_count": 8,
   "id": "d0307a9a-f0a9-40c7-8089-23d8a5ba8659",
   "metadata": {},
   "outputs": [
    {
     "data": {
      "text/html": [
       "<div>\n",
       "<style scoped>\n",
       "    .dataframe tbody tr th:only-of-type {\n",
       "        vertical-align: middle;\n",
       "    }\n",
       "\n",
       "    .dataframe tbody tr th {\n",
       "        vertical-align: top;\n",
       "    }\n",
       "\n",
       "    .dataframe thead th {\n",
       "        text-align: right;\n",
       "    }\n",
       "</style>\n",
       "<table border=\"1\" class=\"dataframe\">\n",
       "  <thead>\n",
       "    <tr style=\"text-align: right;\">\n",
       "      <th></th>\n",
       "      <th>first</th>\n",
       "      <th>last</th>\n",
       "      <th>email</th>\n",
       "    </tr>\n",
       "  </thead>\n",
       "  <tbody>\n",
       "    <tr>\n",
       "      <th>0</th>\n",
       "      <td>Shah</td>\n",
       "      <td>Newaz</td>\n",
       "      <td>demo1@mail.com</td>\n",
       "    </tr>\n",
       "    <tr>\n",
       "      <th>1</th>\n",
       "      <td>Shah</td>\n",
       "      <td>Waliullah</td>\n",
       "      <td>demo2@mail.com</td>\n",
       "    </tr>\n",
       "    <tr>\n",
       "      <th>2</th>\n",
       "      <td>Kawser</td>\n",
       "      <td>Rana</td>\n",
       "      <td>demo3@mail.com</td>\n",
       "    </tr>\n",
       "  </tbody>\n",
       "</table>\n",
       "</div>"
      ],
      "text/plain": [
       "    first       last           email\n",
       "0    Shah      Newaz  demo1@mail.com\n",
       "1    Shah  Waliullah  demo2@mail.com\n",
       "2  Kawser       Rana  demo3@mail.com"
      ]
     },
     "execution_count": 8,
     "metadata": {},
     "output_type": "execute_result"
    }
   ],
   "source": [
    "df"
   ]
  },
  {
   "cell_type": "code",
   "execution_count": 9,
   "id": "817d9625-a83e-41a5-b2cc-036b69157bf0",
   "metadata": {},
   "outputs": [
    {
     "data": {
      "text/plain": [
       "0     True\n",
       "1     True\n",
       "2    False\n",
       "Name: first, dtype: bool"
      ]
     },
     "execution_count": 9,
     "metadata": {},
     "output_type": "execute_result"
    }
   ],
   "source": [
    "filt = df['first'] == 'Shah'"
   ]
  },
  {
   "cell_type": "code",
   "execution_count": null,
   "id": "6483b66b-1292-4ea5-8f8f-80573476fe3f",
   "metadata": {},
   "outputs": [],
   "source": []
  }
 ],
 "metadata": {
  "kernelspec": {
   "display_name": "Python 3 (ipykernel)",
   "language": "python",
   "name": "python3"
  },
  "language_info": {
   "codemirror_mode": {
    "name": "ipython",
    "version": 3
   },
   "file_extension": ".py",
   "mimetype": "text/x-python",
   "name": "python",
   "nbconvert_exporter": "python",
   "pygments_lexer": "ipython3",
   "version": "3.12.1"
  }
 },
 "nbformat": 4,
 "nbformat_minor": 5
}
